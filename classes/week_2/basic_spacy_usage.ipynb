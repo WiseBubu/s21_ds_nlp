{
 "cells": [
  {
   "cell_type": "code",
   "execution_count": 1,
   "metadata": {},
   "outputs": [],
   "source": [
    "import spacy"
   ]
  },
  {
   "cell_type": "code",
   "execution_count": 2,
   "metadata": {},
   "outputs": [],
   "source": [
    "nlp = spacy.load('en_core_web_sm')"
   ]
  },
  {
   "cell_type": "code",
   "execution_count": 3,
   "metadata": {},
   "outputs": [],
   "source": [
    "text = \"\"\"As a low-cost option for wireless service, Visible has been anything but. The budget wireless provider, a part of Verizon, wants to change that.\n",
    "\n",
    "Visible launched last year with little fanfare, offering a stripped down, iPhone-only version of wireless service you could access only through an app. It offers you a decent deal -- as long as you don't mind artificially limited speeds. The service has only one option, a $40 plan (taxes included) that covers unlimited text message, voice, wireless hotspot and data -- that's always limited to 5 megabits a second.\n",
    "\n",
    "The service has been operating quietly for the last few months as it works to get its infrastructure ready to handle a large volume of customers. (Despite running on Verizon's network, the business built out a more efficient network within Verizon to handle its customers.) But on Thursday, the company said it would begin financing iPhones for customers who wanted a new device. Separately, Visible also said it would support Android smartphones, starting with the Galaxy S9 and S9+.\"\"\""
   ]
  },
  {
   "cell_type": "code",
   "execution_count": 4,
   "metadata": {},
   "outputs": [],
   "source": [
    "a = nlp(text)"
   ]
  },
  {
   "cell_type": "code",
   "execution_count": 5,
   "metadata": {},
   "outputs": [
    {
     "name": "stdout",
     "output_type": "stream",
     "text": [
      "<generator object at 0x120301370>\n"
     ]
    }
   ],
   "source": [
    "print(a.sents)"
   ]
  },
  {
   "cell_type": "code",
   "execution_count": 6,
   "metadata": {},
   "outputs": [
    {
     "name": "stdout",
     "output_type": "stream",
     "text": [
      "As a low-cost option for wireless service, Visible has been anything but.\n",
      "&&&&\n",
      "The budget wireless provider, a part of Verizon, wants to change that.\n",
      "\n",
      "\n",
      "&&&&\n",
      "Visible launched last year with little fanfare, offering a stripped down, iPhone-only version of wireless service you could access only through an app.\n",
      "&&&&\n",
      "It offers you a decent deal -- as long as you don't mind artificially limited speeds.\n",
      "&&&&\n",
      "The service has only one option, a $40 plan (taxes included) that covers unlimited text message, voice, wireless hotspot and data -- that's always limited to 5 megabits a second.\n",
      "\n",
      "\n",
      "&&&&\n",
      "The service has been operating quietly for the last few months as it works to get its infrastructure ready to handle a large volume of customers.\n",
      "&&&&\n",
      "(Despite running on Verizon's network, the business built out a more efficient network within Verizon to handle its customers.)\n",
      "&&&&\n",
      "But on Thursday, the company said it would begin financing iPhones for customers who wanted a new device.\n",
      "&&&&\n",
      "Separately, Visible also said it would support Android smartphones, starting with the Galaxy S9 and S9+.\n",
      "&&&&\n"
     ]
    }
   ],
   "source": [
    "for sent in a.sents:\n",
    "    print(sent)\n",
    "    print(\"&&&&\")"
   ]
  },
  {
   "cell_type": "code",
   "execution_count": 7,
   "metadata": {},
   "outputs": [
    {
     "name": "stdout",
     "output_type": "stream",
     "text": [
      "As  --  True  --  as\n",
      "a  --  True  --  a\n",
      "low  --  False  --  low\n",
      "-  --  False  --  -\n",
      "cost  --  False  --  cost\n",
      "option  --  False  --  option\n",
      "for  --  True  --  for\n",
      "wireless  --  False  --  wireless\n",
      "service  --  False  --  service\n",
      ",  --  False  --  ,\n",
      "Visible  --  False  --  Visible\n",
      "has  --  True  --  have\n",
      "been  --  True  --  be\n",
      "anything  --  True  --  anything\n",
      "but  --  True  --  but\n",
      ".  --  False  --  .\n",
      "The  --  True  --  the\n",
      "budget  --  False  --  budget\n",
      "wireless  --  False  --  wireless\n",
      "provider  --  False  --  provider\n",
      ",  --  False  --  ,\n",
      "a  --  True  --  a\n",
      "part  --  True  --  part\n",
      "of  --  True  --  of\n",
      "Verizon  --  False  --  Verizon\n",
      ",  --  False  --  ,\n",
      "wants  --  False  --  want\n",
      "to  --  True  --  to\n",
      "change  --  False  --  change\n",
      "that  --  True  --  that\n",
      ".  --  False  --  .\n",
      "\n",
      "\n",
      "  --  False  --  \n",
      "\n",
      "\n",
      "Visible  --  False  --  Visible\n",
      "launched  --  False  --  launch\n",
      "last  --  True  --  last\n",
      "year  --  False  --  year\n",
      "with  --  True  --  with\n",
      "little  --  False  --  little\n",
      "fanfare  --  False  --  fanfare\n",
      ",  --  False  --  ,\n",
      "offering  --  False  --  offer\n",
      "a  --  True  --  a\n",
      "stripped  --  False  --  strip\n",
      "down  --  True  --  down\n",
      ",  --  False  --  ,\n",
      "iPhone  --  False  --  iPhone\n",
      "-  --  False  --  -\n",
      "only  --  True  --  only\n",
      "version  --  False  --  version\n",
      "of  --  True  --  of\n",
      "wireless  --  False  --  wireless\n",
      "service  --  False  --  service\n",
      "you  --  True  --  -PRON-\n",
      "could  --  True  --  could\n",
      "access  --  False  --  access\n",
      "only  --  True  --  only\n",
      "through  --  True  --  through\n",
      "an  --  True  --  an\n",
      "app  --  False  --  app\n",
      ".  --  False  --  .\n",
      "It  --  True  --  -PRON-\n",
      "offers  --  False  --  offer\n",
      "you  --  True  --  -PRON-\n",
      "a  --  True  --  a\n",
      "decent  --  False  --  decent\n",
      "deal  --  False  --  deal\n",
      "--  --  False  --  --\n",
      "as  --  True  --  as\n",
      "long  --  False  --  long\n",
      "as  --  True  --  as\n",
      "you  --  True  --  -PRON-\n",
      "do  --  True  --  do\n",
      "n't  --  True  --  not\n",
      "mind  --  False  --  mind\n",
      "artificially  --  False  --  artificially\n",
      "limited  --  False  --  limit\n",
      "speeds  --  False  --  speed\n",
      ".  --  False  --  .\n",
      "The  --  True  --  the\n",
      "service  --  False  --  service\n",
      "has  --  True  --  have\n",
      "only  --  True  --  only\n",
      "one  --  True  --  one\n",
      "option  --  False  --  option\n",
      ",  --  False  --  ,\n",
      "a  --  True  --  a\n",
      "$  --  False  --  $\n",
      "40  --  False  --  40\n",
      "plan  --  False  --  plan\n",
      "(  --  False  --  (\n",
      "taxes  --  False  --  taxis\n",
      "included  --  False  --  include\n",
      ")  --  False  --  )\n",
      "that  --  True  --  that\n",
      "covers  --  False  --  cover\n",
      "unlimited  --  False  --  unlimited\n",
      "text  --  False  --  text\n",
      "message  --  False  --  message\n",
      ",  --  False  --  ,\n",
      "voice  --  False  --  voice\n",
      ",  --  False  --  ,\n",
      "wireless  --  False  --  wireless\n",
      "hotspot  --  False  --  hotspot\n",
      "and  --  True  --  and\n",
      "data  --  False  --  datum\n",
      "--  --  False  --  --\n",
      "that  --  True  --  that\n",
      "'s  --  True  --  be\n",
      "always  --  True  --  always\n",
      "limited  --  False  --  limit\n",
      "to  --  True  --  to\n",
      "5  --  False  --  5\n",
      "megabits  --  False  --  megabit\n",
      "a  --  True  --  a\n",
      "second  --  False  --  second\n",
      ".  --  False  --  .\n",
      "\n",
      "\n",
      "  --  False  --  \n",
      "\n",
      "\n",
      "The  --  True  --  the\n",
      "service  --  False  --  service\n",
      "has  --  True  --  have\n",
      "been  --  True  --  be\n",
      "operating  --  False  --  operate\n",
      "quietly  --  False  --  quietly\n",
      "for  --  True  --  for\n",
      "the  --  True  --  the\n",
      "last  --  True  --  last\n",
      "few  --  True  --  few\n",
      "months  --  False  --  month\n",
      "as  --  True  --  as\n",
      "it  --  True  --  -PRON-\n",
      "works  --  False  --  work\n",
      "to  --  True  --  to\n",
      "get  --  True  --  get\n",
      "its  --  True  --  -PRON-\n",
      "infrastructure  --  False  --  infrastructure\n",
      "ready  --  False  --  ready\n",
      "to  --  True  --  to\n",
      "handle  --  False  --  handle\n",
      "a  --  True  --  a\n",
      "large  --  False  --  large\n",
      "volume  --  False  --  volume\n",
      "of  --  True  --  of\n",
      "customers  --  False  --  customer\n",
      ".  --  False  --  .\n",
      "(  --  False  --  (\n",
      "Despite  --  False  --  despite\n",
      "running  --  False  --  run\n",
      "on  --  True  --  on\n",
      "Verizon  --  False  --  Verizon\n",
      "'s  --  True  --  's\n",
      "network  --  False  --  network\n",
      ",  --  False  --  ,\n",
      "the  --  True  --  the\n",
      "business  --  False  --  business\n",
      "built  --  False  --  build\n",
      "out  --  True  --  out\n",
      "a  --  True  --  a\n",
      "more  --  True  --  more\n",
      "efficient  --  False  --  efficient\n",
      "network  --  False  --  network\n",
      "within  --  True  --  within\n",
      "Verizon  --  False  --  Verizon\n",
      "to  --  True  --  to\n",
      "handle  --  False  --  handle\n",
      "its  --  True  --  -PRON-\n",
      "customers  --  False  --  customer\n",
      ".  --  False  --  .\n",
      ")  --  False  --  )\n",
      "But  --  True  --  but\n",
      "on  --  True  --  on\n",
      "Thursday  --  False  --  Thursday\n",
      ",  --  False  --  ,\n",
      "the  --  True  --  the\n",
      "company  --  False  --  company\n",
      "said  --  False  --  say\n",
      "it  --  True  --  -PRON-\n",
      "would  --  True  --  would\n",
      "begin  --  False  --  begin\n",
      "financing  --  False  --  finance\n",
      "iPhones  --  False  --  iPhones\n",
      "for  --  True  --  for\n",
      "customers  --  False  --  customer\n",
      "who  --  True  --  who\n",
      "wanted  --  False  --  want\n",
      "a  --  True  --  a\n",
      "new  --  False  --  new\n",
      "device  --  False  --  device\n",
      ".  --  False  --  .\n",
      "Separately  --  False  --  separately\n",
      ",  --  False  --  ,\n",
      "Visible  --  False  --  Visible\n",
      "also  --  True  --  also\n",
      "said  --  False  --  say\n",
      "it  --  True  --  -PRON-\n",
      "would  --  True  --  would\n",
      "support  --  False  --  support\n",
      "Android  --  False  --  Android\n",
      "smartphones  --  False  --  smartphone\n",
      ",  --  False  --  ,\n",
      "starting  --  False  --  start\n",
      "with  --  True  --  with\n",
      "the  --  True  --  the\n",
      "Galaxy  --  False  --  Galaxy\n",
      "S9  --  False  --  s9\n",
      "and  --  True  --  and\n",
      "S9  --  False  --  S9\n",
      "+  --  False  --  +\n",
      ".  --  False  --  .\n"
     ]
    }
   ],
   "source": [
    "for token in a:\n",
    "        print(token, \" -- \", token.is_stop, \" -- \", token.lemma_)"
   ]
  },
  {
   "cell_type": "code",
   "execution_count": 8,
   "metadata": {},
   "outputs": [
    {
     "name": "stdout",
     "output_type": "stream",
     "text": [
      "(Visible, Verizon, last year, only one, $40, 5, second, the last few months, Verizon, Verizon, Thursday, iPhones, Visible, Android smartphones, Galaxy S9 and S9)\n"
     ]
    }
   ],
   "source": [
    "print(a.ents)"
   ]
  },
  {
   "cell_type": "code",
   "execution_count": 9,
   "metadata": {},
   "outputs": [
    {
     "name": "stdout",
     "output_type": "stream",
     "text": [
      "option\n"
     ]
    }
   ],
   "source": [
    "print(a[5])"
   ]
  },
  {
   "cell_type": "code",
   "execution_count": 10,
   "metadata": {},
   "outputs": [
    {
     "name": "stdout",
     "output_type": "stream",
     "text": [
      "option\n"
     ]
    }
   ],
   "source": [
    "print(a[5].lemma_)"
   ]
  },
  {
   "cell_type": "code",
   "execution_count": 11,
   "metadata": {},
   "outputs": [
    {
     "name": "stdout",
     "output_type": "stream",
     "text": [
      "0  --  1\n",
      "1  --  2\n",
      "2  --  3\n",
      "3  --  4\n",
      "4  --  5\n",
      "5  --  6\n",
      "[(1, 2), (2, 3), (3, 4), (4, 5), (5, 6)]\n"
     ]
    }
   ],
   "source": [
    "test = [1,2,3,4,5,6]\n",
    "\n",
    "output = [(1,2), (2,3)]\n",
    "real_output = []\n",
    "for index, i in enumerate(test):\n",
    "    print(index, \" -- \", i)\n",
    "    if index == len(test) -1:\n",
    "        break\n",
    "    real_output.append((test[index], test[index + 1]))\n",
    "print(real_output)"
   ]
  },
  {
   "cell_type": "code",
   "execution_count": null,
   "metadata": {},
   "outputs": [],
   "source": [
    "test = \"This is a test sentence to examine.\""
   ]
  },
  {
   "cell_type": "code",
   "execution_count": null,
   "metadata": {},
   "outputs": [],
   "source": [
    "doc = nlp(test)"
   ]
  },
  {
   "cell_type": "code",
   "execution_count": null,
   "metadata": {},
   "outputs": [],
   "source": [
    "for i in doc:\n",
    "    print(i)"
   ]
  },
  {
   "cell_type": "code",
   "execution_count": null,
   "metadata": {},
   "outputs": [],
   "source": [
    "range(0, 5)"
   ]
  },
  {
   "cell_type": "code",
   "execution_count": null,
   "metadata": {},
   "outputs": [],
   "source": [
    "for i in range(0,len(doc) - 2):\n",
    "    print(doc[i], \" \", doc[i+1], \" \", doc[i+2])"
   ]
  },
  {
   "cell_type": "code",
   "execution_count": null,
   "metadata": {},
   "outputs": [],
   "source": [
    "stop_removed = [token for token in doc if not token.is_stop]\n",
    "print(stop_removed)"
   ]
  },
  {
   "cell_type": "code",
   "execution_count": null,
   "metadata": {},
   "outputs": [],
   "source": [
    "for i in range(0,len(stop_removed) - 1):\n",
    "    print(stop_removed[i], \" \", stop_removed[i+1])"
   ]
  },
  {
   "cell_type": "code",
   "execution_count": null,
   "metadata": {},
   "outputs": [],
   "source": []
  }
 ],
 "metadata": {
  "kernelspec": {
   "display_name": "Python 3",
   "language": "python",
   "name": "python3"
  },
  "language_info": {
   "codemirror_mode": {
    "name": "ipython",
    "version": 3
   },
   "file_extension": ".py",
   "mimetype": "text/x-python",
   "name": "python",
   "nbconvert_exporter": "python",
   "pygments_lexer": "ipython3",
   "version": "3.7.6"
  }
 },
 "nbformat": 4,
 "nbformat_minor": 2
}
